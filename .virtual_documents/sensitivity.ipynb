


import matplotlib.pyplot as plt
import seaborn as sns
sns.set()
import numpy as np
import pandas as pd
import scipy.optimize



# Set seaborn style and context
sns.set_theme(
    style="whitegrid",  # Background style ("whitegrid", "darkgrid", "white", "dark", "ticks")
    context="notebook",  # Context for scaling elements ("paper", "notebook", "talk", "poster")
    palette="deep",     # Color palette ("deep", "muted", "bright", "pastel", "dark", "colorblind")
    font="sans-serif",  # Font family
    font_scale=1.1,     # Font scaling relative to context
    rc={
        'figure.figsize': (8, 6),  # Default figure size
        'figure.facecolor': 'white',  # Figure background color
        'axes.grid': True,  # Show grid by default
        'grid.alpha': 0.3,  # Grid transparency
        'axes.edgecolor': '.15',  # Edge color
        'axes.labelpad': 8,  # Padding for axis labels
        'axes.titlepad': 12,  # Padding for title
        'lines.linewidth': 1.75,  # Line width
        'patch.edgecolor': 'black',  # Edge color for patches
        'patch.force_edgecolor': True,  # Always show edges on patches
        'xtick.bottom': True,  # Draw ticks on bottom
        'ytick.left': True,  # Draw ticks on left
    }
)





# building interest rates
# T is yearly
# Read tables from a webpage
tables = pd.read_html('https://home.treasury.gov/resource-center/data-chart-center/interest-rates/TextView?type=daily_treasury_yield_curve&field_tdr_date_value=2025')


yesterday_info = tables[0].iloc[-1]


maturities = [1/12, 1.5/12, 2/12, 3/12, 4/12, 0.5, 1, 2, 3, 5, 7, 10, 20, 30]
yields = yesterday_info.to_list()[12:]


# Cubic spline is a popular method for Term Structure of Interest Rate Curve to Existing yields
from scipy.interpolate import CubicSpline
cs = CubicSpline(maturities, yields, bc_type='natural')


x_new = np.linspace(0.25, 30, 300)
y_new = cs(x_new)
plt.scatter(maturities,yields, color='green')
plt.plot(x_new, y_new)
plt.xlabel("Years to Maturity")
plt.ylabel("Yield")
plt.title("US Yield Curve")
plt.show()





class Bond:
    def __init__(self, term_structure, coupon_rate=0.05, coupon_period=0.5, ttm=10, face_value=100):
        self.coupon_rate = coupon_rate
        self.coupon_period = coupon_period
        self.ttm = ttm
        self.face_value = face_value
        #build our cash flow df
        self.df = self.get_df()
        # get the rates required to price the bond
        self.rates = term_structure(self.df['date'])/100
        # get our bond price
        self.price = self.get_price(self.rates)
        self.YTM = self.get_ytm()
        # metrics
        self.dy = self.get_dy(self.YTM)
        self.DV01 = self.get_DV01()
        self.D_mac = self.get_Dmac()
        self.D = self.get_D()
        self.dyy = self.get_dyy()
        self.C = self.get_C()
        self.dr = self.get_dr(self.rates)

    def get_df(self):
        # build bond cashflows
        cash_flows = [self.coupon_rate*self.coupon_period*self.face_value for _ in range(int(self.ttm/self.coupon_period))]
        cash_flows[-1] += self.face_value
        dates = np.arange(self.coupon_period,self.ttm+self.coupon_period,self.coupon_period)
        bond_df = pd.DataFrame({'date':dates, 'cash_flow':cash_flows})
        return bond_df

    def get_price(self, rates):
        discount_factors = (1 + rates*self.coupon_period)**(-1 * self.df['date']/self.coupon_period)
        price = sum(discount_factors * self.df['cash_flow'])
        return price

    def get_ytm(self):
        bond_price_diff = lambda y, prc: prc - self.get_price(y)
        YTM = scipy.optimize.newton(lambda y: bond_price_diff(y, self.price), 0.01, tol=0.00001, maxiter=10_000)
        return YTM

    def get_dy(self, y):
        deriv_df = self.df.copy()
        deriv_df['frac'] = deriv_df['cash_flow'] * (deriv_df['date']/self.coupon_period) / (1 + y*self.coupon_period)**(deriv_df['date']/self.coupon_period + 1)
        deriv = -1*sum(deriv_df['frac'])
        return deriv

    def get_dr(self, rates):
        deriv_df = self.df.copy()
        deriv_df['frac'] = deriv_df['cash_flow'] * (deriv_df['date']/self.coupon_period) / (1 + rates*self.coupon_period)**(deriv_df['date']/self.coupon_period + 1)
        deriv = -1*sum(deriv_df['frac'])
        return deriv
        
    def get_DV01(self):
        return -1 * 1/10_000 * self.dy

    def get_Dmac(self):
        return -1 * self.dy * 1/self.price * (1 + self.YTM*self.coupon_period)

    def get_D(self):
        return self.D_mac/(1 + self.YTM*self.coupon_period)

    def get_dyy(self):
        double_deriv_df = self.df.copy()
        double_deriv_df['frac'] = double_deriv_df['cash_flow'] * (double_deriv_df['date']/self.coupon_period) * (double_deriv_df['date']/self.coupon_period + 1) / (1 + self.YTM*self.coupon_period)**(double_deriv_df['date']/self.coupon_period + 2)
        double_deriv = sum(double_deriv_df['frac'])
        return double_deriv

    def get_C(self):
        return self.dyy / self.price



x = Bond(cs, coupon_rate=0)





# we can use a single scaler if all rates are the same
x.YTM


# sanity check
print(f'Price of bond given term structure: {round(x.price,3)}')
print(f'Price of bond given YTM: {round(x.get_price(x.YTM),3)}')





print(f'Derivative of bond price w.r.t yield: {x.dy}.')





deriv_bp = x.dy * (1/10_000)
print(f'Derivative of bond price w.r.t yield: {deriv_bp}.')








print(f'DV01 of bond: {x.DV01}')








print(f'Macauly Duration of bond: {round(x.D_mac, 3)}')





print(f'Duration of bond: {round(x.D, 3)}')





print(f'Convexity of bond: {x.C}')





shifts = np.arange(-x.YTM, 0.15, 1/1_000)
new_price = np.array([x.get_price(x.YTM + shift) for shift in shifts])


plt.plot(shifts, new_price)
plt.xlabel("Shift in Yield")
plt.ylabel("Price")
plt.title("Shift in Yield vs. Price")
plt.show()





x.df.tail()





x.dr





spot_DV01 = -1 * 1/10_000 * x.dr
print(f'Spot DV01 of bond: {spot_DV01}')





# Build term structure to match question
from scipy.interpolate import CubicSpline
cs = CubicSpline([x for x in range(11)], [5 for _ in range(11)], bc_type='natural')


P_1 = Bond(cs, coupon_rate=0, coupon_period=1, ttm=1, face_value=1)
P_5 = Bond(cs, coupon_rate=0, coupon_period=1, ttm=5, face_value=1)
P_10 = Bond(cs, coupon_rate=0, coupon_period=1, ttm=10, face_value=1)





N1 = (P_5.D-P_10.D*P_5.price)/(P_1.price*(P_1.D - P_10.D))
N10 = (P_5.price*P_1.D-P_5.D)/(P_10.price*(P_1.D - P_10.D))
print(f'Number of 1 year bonds: {N1}')
print(f'Number of 10 year bonds: {N10}')


print(f'Price of P_5: {P_5.price}')
print(f'Duration of P_5: {P_5.D}')


print(f'Price of replicating portfolio: {N1*P_1.price + N10*P_10.price}')
print(f'Duration of replicating portfolio: {N1*P_1.price*P_1.D + N10*P_10.price*P_10.D}')





print(f'Convexity of P_5: {P_5.C}')


print(f'Convexity of replicating Portfolio: {N1*P_1.price*P_1.C + N10*P_10.price*P_10.C}')


shifts = np.arange(-0.05, 0.2, 1/1_000)
P_5_change = np.array([P_5.get_price(P_5.rates + shift) for shift in shifts])
portfolio_change = np.array([N1*P_1.get_price(P_1.rates + shift) + N10*P_10.get_price(P_10.rates + shift) for shift in shifts])


plt.plot(shifts, P_5_change, label = "P_5")
plt.plot(shifts, portfolio_change, label = "Replicating Portfolio")
plt.legend()
plt.xlabel("Shift in Yield")
plt.ylabel("Price")
plt.title("Shift in Yield vs. Price")
plt.show()






