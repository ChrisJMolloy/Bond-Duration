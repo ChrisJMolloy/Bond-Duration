


import matplotlib.pyplot as plt
import seaborn as sns
import numpy as np
import pandas as pd
import scipy.optimize
import init





# building interest rates
# T is yearly
# Read tables from a webpage
tables = pd.read_html('https://home.treasury.gov/resource-center/data-chart-center/interest-rates/TextView?type=daily_treasury_yield_curve&field_tdr_date_value=2025')


yesterday_info = tables[0].iloc[-1]


maturities = [1/12, 1.5/12, 2/12, 3/12, 4/12, 0.5, 1, 2, 3, 5, 7, 10, 20, 30]
yields = yesterday_info.to_list()[12:]
yields = [ y/100 for y in yields]


# Cubic spline is a popular method for Term Structure of Interest Rate Curve to Existing yields
from scipy.interpolate import CubicSpline
cs = CubicSpline(maturities, yields, bc_type='natural')


x_new = np.linspace(0.25, 30, 300)
y_new = cs(x_new)
plt.scatter(maturities,yields, color='green')
plt.plot(x_new, y_new)
plt.xlabel("Years to Maturity")
plt.ylabel("Yield")
plt.title("US Yield Curve")
plt.show()





class Bond:
    # compound period - how many times a year the i.r. is compounded
    def __init__(self, term_structure, coupon_rate=0.02, compound_period=2, ttm=2, face_value=1):
        self.coupon_rate = coupon_rate
        self.compound_period = compound_period
        self.ttm = ttm
        self.face_value = face_value
        #build our cash flow df
        self.df = self.get_df()
        # get the rates required to price the bond
        self.rates = term_structure(self.df['date'])
        # get our bond price
        self.price = self.get_price(self.rates)
        self.YTM = self.get_ytm()
        # metrics
        self.dy = self.get_dy(self.YTM)
        self.DV01 = self.get_DV01()
        self.D_mac = self.get_Dmac()
        self.D = self.get_D()
        self.dyy = self.get_dyy(self.YTM)
        self.C = self.get_C()

    def get_df(self):
        # build bond cashflows
        cash_flows = [self.coupon_rate/self.compound_period*self.face_value for _ in range(int(self.ttm*self.compound_period))]
        cash_flows[-1] += self.face_value
        dates = np.arange(1/self.compound_period,self.ttm+(1/self.compound_period),1/self.compound_period)
        print(dates)
        bond_df = pd.DataFrame({'date':dates, 'cash_flow':cash_flows})
        return bond_df

    def get_price(self, rates):
        discount_factors = (1 + rates/self.compound_period)**(-1 * self.df['date']*self.compound_period)
        price = sum(discount_factors * self.df['cash_flow'])
        return price

    def get_ytm(self):
        bond_price_diff = lambda y, prc: prc - self.get_price(y)
        YTM = scipy.optimize.newton(lambda y: bond_price_diff(y, self.price), 0.01, tol=0.00001, maxiter=10_000)
        return YTM

    def get_dy(self, y):
        deriv_df = self.df.copy()
        deriv_df['frac'] = deriv_df['cash_flow'] * (deriv_df['date']) / (1 + y/self.compound_period)**(deriv_df['date']*self.compound_period + 1)
        deriv = -1*sum(deriv_df['frac'])
        return deriv
        
    def get_DV01(self):
        return -1 * 1/10_000 * self.dy

    def get_Dmac(self):
        return -1 * self.dy * 1/self.price * (1 + self.YTM/self.compound_period)

    def get_D(self):
        return self.D_mac/(1 + self.YTM/self.compound_period)

    def get_dyy(self, y):
        double_deriv_df = self.df.copy()
        double_deriv_df['frac'] = double_deriv_df['cash_flow'] * (double_deriv_df['date']) * (double_deriv_df['date']*self.compound_period + 1) / self.compound_period / (1 + y/self.compound_period)**(double_deriv_df['date']*self.compound_period + 2)
        double_deriv = sum(double_deriv_df['frac'])
        return double_deriv

    def get_C(self):
        return self.dyy / self.price

    def get_fd_dy(self, delta_y=0.0001):
        dy = (self.get_price(self.YTM + delta_y) - self.get_price(self.YTM - delta_y) )/ (2 * delta_y)
        return dy

    def get_fd_dyy(self, delta_y=0.0001):
        dy = (self.get_price(self.YTM + delta_y) -2*self.get_price(self.YTM) + self.get_price(self.YTM - delta_y) )/ (delta_y**2)
        return dy





# we can use a single scaler if all rates are the same
print(f'Yield to Maturity (YTM) of bond: {x.YTM}')


print(f'Price of bond given term structure: {round(x.price,3)}')
print(f'Price of bond given YTM: {round(x.get_price(x.YTM),3)}')





print(f'Derivative of bond price w.r.t yield: {x.dy}.')





print(f'DV01 of bond: {x.DV01}')








print(f'Macauly Duration of bond: {round(x.D_mac, 3)}')





print(f'Duration of bond: {round(x.D, 3)}')





print(f'Convexity of bond: {x.C}')





print(f'FD real d/dy: {x.get_fd_dy() - x.dy}')


print(f'FD real dd/dyy: {x.get_fd_dyy() - x.dyy}')



