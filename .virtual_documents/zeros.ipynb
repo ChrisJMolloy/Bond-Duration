import matplotlib.pyplot as plt
#sns.set()
import numpy as np
import pandas as pd
import scipy.optimize
import init


class Zero:
    # compound period - how many times a year the i.r. is compounded
    def __init__(self, rate, ttm, face_value = 1, compound_period=1):
        self.rate = rate
        self.compound_period = compound_period
        self.ttm = ttm
        self.face_value = face_value
        self.price = self.get_price(rate)
        #this is always true for zero coupon bonds
        self.YTM = rate
        self.dy = self.get_dy(self.YTM)
        self.DD = self.get_DD(self.YTM)
        self.DV01 = self.get_DV01(self.YTM)
        self.D_mac = self.get_Dmac()
        self.D = self.get_D()
        self.dyy = self.get_dyy(self.YTM)
        self.C = self.get_C()
        self.ED = self.get_ED()

    def get_price(self, rate):
        discount_factor = (1 + rate/self.compound_period)**(-1 * self.ttm*self.compound_period)
        price = discount_factor * self.face_value
        return price

    def get_dy(self, y):
        return -1 * self.face_value * self.ttm / (1 + y/self.compound_period)**(self.ttm*self.compound_period + 1)
        
    def get_DD(self, y):
        return self.get_dy(y) * -1

    def get_DV01(self, y):
        return self.get_DD(y) * 1/10_000

    def get_Dmac(self):
        return -1 * self.dy * 1/self.price * (1 + self.YTM*self.compound_period)

    def get_D(self):
        return self.D_mac/(1 + self.YTM*self.compound_period)

    def get_dyy(self, y):
        double_deriv = self.face_value * self.ttm/self.compound_period * (self.ttm/self.compound_period + 1) / (1 + y*self.compound_period)**(self.ttm*self.compound_period + 2)
        return double_deriv

    def get_C(self):
        return self.dyy / self.price

    def get_ED(self, delta_y=0.0001):
        shock_up = self.YTM + delta_y
        shock_down = self.YTM - delta_y
        return (self.get_price(shock_up) - self.get_price(shock_down) )/ (2 * delta_y)
        


Z_10 = Zero(0.04409999998639549, ttm=10, compound_period=2)
Z_2 = Zero(0.05, ttm=2, compound_period=4)


Z_10.price * ((1 + 0.04409999998639549/2)**20)


Z_2.dy


Z_2.ED


Z_2.D





# we can use a single scaler if all rates are the same
print(f'Yield to Maturity (YTM) of bond: {Z_2.YTM}')








print(f'Derivative of zero price w.r.t yield: {Z_2.dy}.')





print(f'DV01 of zero: {Z_2.DV01}')








print(f'Macauly Duration of bond: {Z_2.D_mac}')





Z_2.D








z_2._get_price()


print(f'Duration of bond: {Z_2.D}')
print(f'ED of bond: {Z_2.ED}')








print(f'Convexity of bond: {Z_2.C}')


























Z_1 = Zero(0.05, ttm=1)
Z_5 = Zero(0.05, ttm=5)
Z_10 = Zero(0.05, ttm=10)





N1 = (Z_5.price*(Z_5.D-Z_10.D))/(Z_1.price*(Z_1.D - Z_10.D))
N10 = (Z_5.price*(Z_1.D-Z_5.D))/(Z_10.price*(Z_1.D - Z_10.D))
print(f'Number of 1 year bonds: {N1}')
print(f'Number of 10 year bonds: {N10}')


class Portfolio:
    def __init__(self, bonds, quantities):
        self.YTM = bonds[0].YTM
        self.bonds = bonds
        self.N = quantities
        self.price = self.get_price(self.YTM)
        self.D = self.get_D(self.YTM)
        self.C = self.get_C(self.YTM)

    def get_price(self, y):
        return sum([x.get_price(y)*n[0] for x, n in zip(self.bonds, self.N)])

    def get_D(self, y):
        s = sum([x.D*x.get_price(y)*n[0] for x, n in zip(self.bonds, self.N)])
        return s/self.price
    
    def get_dy(self, y):
        return -1 * self.get_D(y)*self.get_price(y)

    def get_dyy(self, y):
        return self.get_C(y)*self.get_price(y)
   
    def get_C(self, y):
        c = sum([x.C*x.get_price(y)*n[0] for x, n in zip(self.bonds, self.N)])
        return c/self.price


R_1_10 = Portfolio([Z_1, Z_10], np.array([[N1], [N10]]))


R_1_10.D


Z_5.D


yields = np.arange(0, 0.1, 0.0001)


Z_5_change = np.array([Z_5.get_price(y) for y in yields])
R_1_10_change = np.array([R_1_10.get_price(y) for y in yields])


plt.plot(yields, Z_5_change, label = "Z_5")
plt.plot(yields, R_1_10_change, label = "Replicating Portfolio")
plt.legend()
plt.xlabel("y")
plt.ylabel("Value")
plt.title("Yield vs. Price (0.05 start)")
plt.show()


Z_5_dy = np.array([Z_5.get_dy(y) for y in yields])
R_1_10_dy = np.array([R_1_10.get_dy(y) for y in yields])


plt.plot(yields, Z_5_dy, label = "Z_5")
plt.plot(yields, R_1_10_dy, label = "Replicating Portfolio")
plt.legend()
plt.xlabel("y")
plt.ylabel("D/dy")
plt.title("Change in Sensitivity")
plt.show()





book_v_1_10 = R_1_10_change - Z_5_change


plt.plot(yields, book_v_1_10, label = "Book Value")
plt.legend()
plt.xlabel("y")
plt.ylabel("Book Value")
plt.title("Book Value for different yields")
plt.show()


Z_5_dyy = np.array([Z_5.get_dyy(y) for y in yields])
R_1_10_dyy = np.array([R_1_10.get_dyy(y) for y in yields])


plt.plot(yields, Z_5_dyy, label = "Z_5")
plt.plot(yields, R_1_10_dyy, label = "Replicating Portfolio")
plt.legend()
plt.xlabel("y")
plt.ylabel("dd/dyy")
plt.title("Change in Convexity")
plt.show()





Z_2.price





A = np.array([[Z_1.price, Z_2.price, Z_10.price],
              [Z_1.D * Z_1.price, Z_2.D * Z_2.price, Z_10.D * Z_10.price],
              [Z_1.C * Z_1.price, Z_2.C * Z_2.price, Z_10.C * Z_10.price],
             ])

a = np.array([[Z_5.price],
              [Z_5.D * Z_5.price],
              [Z_5.C * Z_5.price]
             ])

N = np.linalg.inv(A) @ a


R_1_2_10 = Portfolio([Z_1, Z_2, Z_10], N)


R_1_2_10.price


Z_5.price


R_1_2_10_change = np.array([R_1_2_10.get_price(y) for y in yields])


plt.plot(yields, Z_5_change, label = "P_5")
plt.plot(yields, R_1_10_change, label = "Replicating Portfolio - (Z_1, Z_10)")
plt.plot(yields, R_1_2_10_change, label = "Replicating Portfolio - (Z_1, Z_2, Z_10)")
plt.legend()
plt.xlabel("y")
plt.ylabel("Price")
plt.title("Yield vs. Price")
plt.show()


R_1_2_10_dy = np.array([R_1_2_10.get_dy(y) for y in yields])


plt.plot(yields, Z_5_dy, label = "P_5")
plt.plot(yields, R_1_10_dy, label = "Replicating Portfolio - (Z_1, Z_10)")
plt.plot(yields, R_1_2_10_dy, label = "Replicating Portfolio - (Z_1, Z_2, Z_10)")
plt.legend()
plt.xlabel("y")
plt.ylabel("D/dy")
plt.title("Change in Sensitivity")
plt.show()


R_1_2_10_dyy = np.array([R_1_2_10.get_dyy(y) for y in yields])


plt.plot(yields, Z_5_dyy, label = "P_5")
plt.plot(yields, R_1_10_dyy, label = "Replicating Portfolio - (Z_1, Z_10)")
plt.plot(yields, R_1_2_10_dyy, label = "Replicating Portfolio - (Z_1, Z_2, Z_10)")
plt.legend()
plt.xlabel("y")
plt.ylabel("dd/dyy")
plt.title("Change in Convexity")
plt.show()


book_v_1_2_10 = R_1_2_10_change - Z_5_change


plt.plot(yields, book_v_1_10, label = "Book Value (Z_1, Z_10)")
plt.plot(yields, book_v_1_2_10, label = "Book Value (Z_1, Z_2, Z_10)")
plt.legend()
plt.xlabel("y")
plt.ylabel("Book Value")
plt.title("Book Value for different yields")
plt.show()



