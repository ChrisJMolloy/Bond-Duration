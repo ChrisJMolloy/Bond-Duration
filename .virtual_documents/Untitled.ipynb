


import matplotlib.pyplot as plt
import seaborn as sns
sns.set()
import numpy as np
import pandas as pd





# building interest rates
# T is yearly
# Read tables from a webpage
tables = pd.read_html('https://home.treasury.gov/resource-center/data-chart-center/interest-rates/TextView?type=daily_treasury_yield_curve&field_tdr_date_value=2025')


yesterday_info = tables[0].iloc[-1]


maturities = [1/12, 1.5/12, 2/12, 3/12, 4/12, 0.5, 1, 2, 3, 5, 7, 10, 20, 30]
yields = yesterday_info.to_list()[12:]


# Cubic spline is a popular method for Term Structure of Interest Rate Curve to Existing yields
from scipy.interpolate import CubicSpline
cs = CubicSpline(maturities, yields, bc_type='natural')


x_new = np.linspace(0.25, 30, 300)
y_new = cs(x_new)
plt.scatter(maturities,yields, color='green')
plt.plot(x_new, y_new)
plt.xlabel("Years to Maturity")
plt.ylabel("Yield")
plt.title("US Yield Curve")
plt.show()





class Bond:
    def __init__(self, term_structure, coupon_rate=0.05, coupon_period=0.5, ttm=10, face_value=100):
        self.coupon_rate = coupon_rate
        self.coupon_period = coupon_period
        self.ttm = ttm
        self.face_value = face_value
        #build our cash flow df
        self.df = self.get_df()
        # get the rates required to price the bond
        self.rates = term_structure(self.df['date'])/100
        # get our bond price
        self.price = self.get_price(self.rates)

    def get_df(self):
        # build bond cashflows
        cash_flows = [self.coupon_rate*self.coupon_period*self.face_value for _ in range(int(self.ttm/self.coupon_period))]
        cash_flows[-1] += self.face_value
        dates = np.arange(self.coupon_period,self.ttm+self.coupon_period,self.coupon_period)
        bond_df = pd.DataFrame({'date':dates, 'cash_flow':cash_flows})
        return bond_df

    # shift is bps
    def get_price(self, rates):
        discount_factors = (1 + rates*self.coupon_period)**(-1 * self.df['date']/self.coupon_period)
        price = sum(discount_factors * self.df['cash_flow'])
        return price


x = Bond(cs)


shifts = np.arange(-0.04, 0.04, 1/1_000)
new_price = np.array([x.get_price(x.rates + shift) for shift in shifts])


plt.plot(shifts, new_price)
plt.xlabel("Shift in Yield Curve")
plt.ylabel("Price")
plt.title("Shift in Yield Curve Effect on Price")
plt.show()





x.df.tail()





deriv_df = x.df


deriv_df['rate'] = x.rates


deriv_df['frac'] = dur_df['cash_flow'] * dur_df['date'] / (1 + dur_df['rate']*x.coupon_period)**(dur_df['date'] + 1)


deriv = -1*sum(deriv_df['frac'])


print(f'Derivative of bond price w.r.t spot rate: {deriv}.')





deriv = deriv * (1/10_000)
print(f'Derivative of bond price w.r.t spot rate: {deriv}.')








DV01 = deriv * -1
print(f'DV01 of bond: {DV01}')






